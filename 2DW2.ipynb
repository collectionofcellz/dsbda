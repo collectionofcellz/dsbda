{
 "cells": [
  {
   "cell_type": "code",
   "execution_count": 1,
   "id": "dff58c48-8c3f-4025-b0d7-4006c3afced2",
   "metadata": {},
   "outputs": [],
   "source": [
    "#Name: Sunny Sampat Lonkar\n",
    "#Roll No. : 34\n",
    "#Batch : T2\n"
   ]
  },
  {
   "cell_type": "code",
   "execution_count": 1,
   "id": "4c9bd9f9-805a-4d71-bc7e-dc963c5059d2",
   "metadata": {},
   "outputs": [],
   "source": [
    "import pandas as pd\n",
    "import numpy as np\n",
    "from sklearn import preprocessing"
   ]
  },
  {
   "cell_type": "code",
   "execution_count": 2,
   "id": "48464618-bcfa-4075-90b7-dab95fcded76",
   "metadata": {},
   "outputs": [],
   "source": [
    "#Data Preprocessing"
   ]
  },
  {
   "cell_type": "code",
   "execution_count": 3,
   "id": "fd6f52ce-a1e9-495d-844b-fcde9ba1b27b",
   "metadata": {},
   "outputs": [],
   "source": [
    "df = pd.read_csv(\"Academics_Performance.csv\")"
   ]
  },
  {
   "cell_type": "code",
   "execution_count": 4,
   "id": "e648feb2-37ef-4131-bb6f-714094c17085",
   "metadata": {},
   "outputs": [
    {
     "data": {
      "text/html": [
       "<div>\n",
       "<style scoped>\n",
       "    .dataframe tbody tr th:only-of-type {\n",
       "        vertical-align: middle;\n",
       "    }\n",
       "\n",
       "    .dataframe tbody tr th {\n",
       "        vertical-align: top;\n",
       "    }\n",
       "\n",
       "    .dataframe thead th {\n",
       "        text-align: right;\n",
       "    }\n",
       "</style>\n",
       "<table border=\"1\" class=\"dataframe\">\n",
       "  <thead>\n",
       "    <tr style=\"text-align: right;\">\n",
       "      <th></th>\n",
       "      <th>ID</th>\n",
       "      <th>Name</th>\n",
       "      <th>Age</th>\n",
       "      <th>Marks</th>\n",
       "    </tr>\n",
       "  </thead>\n",
       "  <tbody>\n",
       "    <tr>\n",
       "      <th>0</th>\n",
       "      <td>1</td>\n",
       "      <td>Akash</td>\n",
       "      <td>21</td>\n",
       "      <td>85</td>\n",
       "    </tr>\n",
       "    <tr>\n",
       "      <th>1</th>\n",
       "      <td>2</td>\n",
       "      <td>Priya</td>\n",
       "      <td>20</td>\n",
       "      <td>78</td>\n",
       "    </tr>\n",
       "    <tr>\n",
       "      <th>2</th>\n",
       "      <td>3</td>\n",
       "      <td>Rahul</td>\n",
       "      <td>22</td>\n",
       "      <td>92</td>\n",
       "    </tr>\n",
       "    <tr>\n",
       "      <th>3</th>\n",
       "      <td>4</td>\n",
       "      <td>Neha</td>\n",
       "      <td>21</td>\n",
       "      <td>75</td>\n",
       "    </tr>\n",
       "    <tr>\n",
       "      <th>4</th>\n",
       "      <td>5</td>\n",
       "      <td>Aman</td>\n",
       "      <td>23</td>\n",
       "      <td>88</td>\n",
       "    </tr>\n",
       "    <tr>\n",
       "      <th>5</th>\n",
       "      <td>6</td>\n",
       "      <td>Sanya</td>\n",
       "      <td>20</td>\n",
       "      <td>82</td>\n",
       "    </tr>\n",
       "    <tr>\n",
       "      <th>6</th>\n",
       "      <td>7</td>\n",
       "      <td>Rohan</td>\n",
       "      <td>22</td>\n",
       "      <td>79</td>\n",
       "    </tr>\n",
       "    <tr>\n",
       "      <th>7</th>\n",
       "      <td>8</td>\n",
       "      <td>Pooja</td>\n",
       "      <td>21</td>\n",
       "      <td>90</td>\n",
       "    </tr>\n",
       "    <tr>\n",
       "      <th>8</th>\n",
       "      <td>9</td>\n",
       "      <td>Raj</td>\n",
       "      <td>20</td>\n",
       "      <td>85</td>\n",
       "    </tr>\n",
       "    <tr>\n",
       "      <th>9</th>\n",
       "      <td>10</td>\n",
       "      <td>Sneha</td>\n",
       "      <td>23</td>\n",
       "      <td>77</td>\n",
       "    </tr>\n",
       "    <tr>\n",
       "      <th>10</th>\n",
       "      <td>11</td>\n",
       "      <td>Ankit</td>\n",
       "      <td>22</td>\n",
       "      <td>84</td>\n",
       "    </tr>\n",
       "    <tr>\n",
       "      <th>11</th>\n",
       "      <td>12</td>\n",
       "      <td>Meera</td>\n",
       "      <td>21</td>\n",
       "      <td>89</td>\n",
       "    </tr>\n",
       "    <tr>\n",
       "      <th>12</th>\n",
       "      <td>13</td>\n",
       "      <td>Vivek</td>\n",
       "      <td>20</td>\n",
       "      <td>91</td>\n",
       "    </tr>\n",
       "    <tr>\n",
       "      <th>13</th>\n",
       "      <td>14</td>\n",
       "      <td>Juhi</td>\n",
       "      <td>22</td>\n",
       "      <td>76</td>\n",
       "    </tr>\n",
       "    <tr>\n",
       "      <th>14</th>\n",
       "      <td>15</td>\n",
       "      <td>Manish</td>\n",
       "      <td>23</td>\n",
       "      <td>83</td>\n",
       "    </tr>\n",
       "    <tr>\n",
       "      <th>15</th>\n",
       "      <td>16</td>\n",
       "      <td>Kavita</td>\n",
       "      <td>21</td>\n",
       "      <td>87</td>\n",
       "    </tr>\n",
       "    <tr>\n",
       "      <th>16</th>\n",
       "      <td>17</td>\n",
       "      <td>Arjun</td>\n",
       "      <td>20</td>\n",
       "      <td>80</td>\n",
       "    </tr>\n",
       "    <tr>\n",
       "      <th>17</th>\n",
       "      <td>18</td>\n",
       "      <td>Simran</td>\n",
       "      <td>22</td>\n",
       "      <td>93</td>\n",
       "    </tr>\n",
       "    <tr>\n",
       "      <th>18</th>\n",
       "      <td>19</td>\n",
       "      <td>Rohit</td>\n",
       "      <td>21</td>\n",
       "      <td>79</td>\n",
       "    </tr>\n",
       "    <tr>\n",
       "      <th>19</th>\n",
       "      <td>20</td>\n",
       "      <td>Shruti</td>\n",
       "      <td>23</td>\n",
       "      <td>86</td>\n",
       "    </tr>\n",
       "    <tr>\n",
       "      <th>20</th>\n",
       "      <td>21</td>\n",
       "      <td>Mohan</td>\n",
       "      <td>20</td>\n",
       "      <td>81</td>\n",
       "    </tr>\n",
       "    <tr>\n",
       "      <th>21</th>\n",
       "      <td>22</td>\n",
       "      <td>Ritu</td>\n",
       "      <td>22</td>\n",
       "      <td>88</td>\n",
       "    </tr>\n",
       "    <tr>\n",
       "      <th>22</th>\n",
       "      <td>23</td>\n",
       "      <td>Anuj</td>\n",
       "      <td>21</td>\n",
       "      <td>77</td>\n",
       "    </tr>\n",
       "    <tr>\n",
       "      <th>23</th>\n",
       "      <td>24</td>\n",
       "      <td>Aarti</td>\n",
       "      <td>23</td>\n",
       "      <td>92</td>\n",
       "    </tr>\n",
       "    <tr>\n",
       "      <th>24</th>\n",
       "      <td>25</td>\n",
       "      <td>Sanjay</td>\n",
       "      <td>20</td>\n",
       "      <td>84</td>\n",
       "    </tr>\n",
       "    <tr>\n",
       "      <th>25</th>\n",
       "      <td>26</td>\n",
       "      <td>Nisha</td>\n",
       "      <td>22</td>\n",
       "      <td>79</td>\n",
       "    </tr>\n",
       "    <tr>\n",
       "      <th>26</th>\n",
       "      <td>27</td>\n",
       "      <td>Deepak</td>\n",
       "      <td>21</td>\n",
       "      <td>88</td>\n",
       "    </tr>\n",
       "    <tr>\n",
       "      <th>27</th>\n",
       "      <td>28</td>\n",
       "      <td>Kiran</td>\n",
       "      <td>23</td>\n",
       "      <td>75</td>\n",
       "    </tr>\n",
       "    <tr>\n",
       "      <th>28</th>\n",
       "      <td>29</td>\n",
       "      <td>Shreya</td>\n",
       "      <td>20</td>\n",
       "      <td>90</td>\n",
       "    </tr>\n",
       "    <tr>\n",
       "      <th>29</th>\n",
       "      <td>30</td>\n",
       "      <td>Suresh</td>\n",
       "      <td>22</td>\n",
       "      <td>83</td>\n",
       "    </tr>\n",
       "  </tbody>\n",
       "</table>\n",
       "</div>"
      ],
      "text/plain": [
       "    ID    Name  Age  Marks\n",
       "0    1   Akash   21     85\n",
       "1    2   Priya   20     78\n",
       "2    3   Rahul   22     92\n",
       "3    4    Neha   21     75\n",
       "4    5    Aman   23     88\n",
       "5    6   Sanya   20     82\n",
       "6    7   Rohan   22     79\n",
       "7    8   Pooja   21     90\n",
       "8    9     Raj   20     85\n",
       "9   10   Sneha   23     77\n",
       "10  11   Ankit   22     84\n",
       "11  12   Meera   21     89\n",
       "12  13   Vivek   20     91\n",
       "13  14    Juhi   22     76\n",
       "14  15  Manish   23     83\n",
       "15  16  Kavita   21     87\n",
       "16  17   Arjun   20     80\n",
       "17  18  Simran   22     93\n",
       "18  19   Rohit   21     79\n",
       "19  20  Shruti   23     86\n",
       "20  21   Mohan   20     81\n",
       "21  22    Ritu   22     88\n",
       "22  23    Anuj   21     77\n",
       "23  24   Aarti   23     92\n",
       "24  25  Sanjay   20     84\n",
       "25  26   Nisha   22     79\n",
       "26  27  Deepak   21     88\n",
       "27  28   Kiran   23     75\n",
       "28  29  Shreya   20     90\n",
       "29  30  Suresh   22     83"
      ]
     },
     "execution_count": 4,
     "metadata": {},
     "output_type": "execute_result"
    }
   ],
   "source": [
    "df"
   ]
  },
  {
   "cell_type": "code",
   "execution_count": 5,
   "id": "621ad47f-2cfe-4803-ba69-6362204ab56d",
   "metadata": {},
   "outputs": [
    {
     "data": {
      "text/html": [
       "<div>\n",
       "<style scoped>\n",
       "    .dataframe tbody tr th:only-of-type {\n",
       "        vertical-align: middle;\n",
       "    }\n",
       "\n",
       "    .dataframe tbody tr th {\n",
       "        vertical-align: top;\n",
       "    }\n",
       "\n",
       "    .dataframe thead th {\n",
       "        text-align: right;\n",
       "    }\n",
       "</style>\n",
       "<table border=\"1\" class=\"dataframe\">\n",
       "  <thead>\n",
       "    <tr style=\"text-align: right;\">\n",
       "      <th></th>\n",
       "      <th>ID</th>\n",
       "      <th>Name</th>\n",
       "      <th>Age</th>\n",
       "      <th>Marks</th>\n",
       "    </tr>\n",
       "  </thead>\n",
       "  <tbody>\n",
       "    <tr>\n",
       "      <th>0</th>\n",
       "      <td>1</td>\n",
       "      <td>Akash</td>\n",
       "      <td>21</td>\n",
       "      <td>85</td>\n",
       "    </tr>\n",
       "    <tr>\n",
       "      <th>1</th>\n",
       "      <td>2</td>\n",
       "      <td>Priya</td>\n",
       "      <td>20</td>\n",
       "      <td>78</td>\n",
       "    </tr>\n",
       "    <tr>\n",
       "      <th>2</th>\n",
       "      <td>3</td>\n",
       "      <td>Rahul</td>\n",
       "      <td>22</td>\n",
       "      <td>92</td>\n",
       "    </tr>\n",
       "    <tr>\n",
       "      <th>3</th>\n",
       "      <td>4</td>\n",
       "      <td>Neha</td>\n",
       "      <td>21</td>\n",
       "      <td>75</td>\n",
       "    </tr>\n",
       "    <tr>\n",
       "      <th>4</th>\n",
       "      <td>5</td>\n",
       "      <td>Aman</td>\n",
       "      <td>23</td>\n",
       "      <td>88</td>\n",
       "    </tr>\n",
       "  </tbody>\n",
       "</table>\n",
       "</div>"
      ],
      "text/plain": [
       "   ID   Name  Age  Marks\n",
       "0   1  Akash   21     85\n",
       "1   2  Priya   20     78\n",
       "2   3  Rahul   22     92\n",
       "3   4   Neha   21     75\n",
       "4   5   Aman   23     88"
      ]
     },
     "execution_count": 5,
     "metadata": {},
     "output_type": "execute_result"
    }
   ],
   "source": [
    "df.head()"
   ]
  },
  {
   "cell_type": "code",
   "execution_count": 6,
   "id": "4ac86c62-00d8-452a-8d4d-5d43ee7afda9",
   "metadata": {},
   "outputs": [
    {
     "data": {
      "text/html": [
       "<div>\n",
       "<style scoped>\n",
       "    .dataframe tbody tr th:only-of-type {\n",
       "        vertical-align: middle;\n",
       "    }\n",
       "\n",
       "    .dataframe tbody tr th {\n",
       "        vertical-align: top;\n",
       "    }\n",
       "\n",
       "    .dataframe thead th {\n",
       "        text-align: right;\n",
       "    }\n",
       "</style>\n",
       "<table border=\"1\" class=\"dataframe\">\n",
       "  <thead>\n",
       "    <tr style=\"text-align: right;\">\n",
       "      <th></th>\n",
       "      <th>ID</th>\n",
       "      <th>Name</th>\n",
       "      <th>Age</th>\n",
       "      <th>Marks</th>\n",
       "    </tr>\n",
       "  </thead>\n",
       "  <tbody>\n",
       "    <tr>\n",
       "      <th>25</th>\n",
       "      <td>26</td>\n",
       "      <td>Nisha</td>\n",
       "      <td>22</td>\n",
       "      <td>79</td>\n",
       "    </tr>\n",
       "    <tr>\n",
       "      <th>26</th>\n",
       "      <td>27</td>\n",
       "      <td>Deepak</td>\n",
       "      <td>21</td>\n",
       "      <td>88</td>\n",
       "    </tr>\n",
       "    <tr>\n",
       "      <th>27</th>\n",
       "      <td>28</td>\n",
       "      <td>Kiran</td>\n",
       "      <td>23</td>\n",
       "      <td>75</td>\n",
       "    </tr>\n",
       "    <tr>\n",
       "      <th>28</th>\n",
       "      <td>29</td>\n",
       "      <td>Shreya</td>\n",
       "      <td>20</td>\n",
       "      <td>90</td>\n",
       "    </tr>\n",
       "    <tr>\n",
       "      <th>29</th>\n",
       "      <td>30</td>\n",
       "      <td>Suresh</td>\n",
       "      <td>22</td>\n",
       "      <td>83</td>\n",
       "    </tr>\n",
       "  </tbody>\n",
       "</table>\n",
       "</div>"
      ],
      "text/plain": [
       "    ID    Name  Age  Marks\n",
       "25  26   Nisha   22     79\n",
       "26  27  Deepak   21     88\n",
       "27  28   Kiran   23     75\n",
       "28  29  Shreya   20     90\n",
       "29  30  Suresh   22     83"
      ]
     },
     "execution_count": 6,
     "metadata": {},
     "output_type": "execute_result"
    }
   ],
   "source": [
    "df.tail()"
   ]
  },
  {
   "cell_type": "code",
   "execution_count": 7,
   "id": "fae3e90e-3e64-43f6-a0c1-60038d2c4d59",
   "metadata": {},
   "outputs": [
    {
     "data": {
      "text/html": [
       "<div>\n",
       "<style scoped>\n",
       "    .dataframe tbody tr th:only-of-type {\n",
       "        vertical-align: middle;\n",
       "    }\n",
       "\n",
       "    .dataframe tbody tr th {\n",
       "        vertical-align: top;\n",
       "    }\n",
       "\n",
       "    .dataframe thead th {\n",
       "        text-align: right;\n",
       "    }\n",
       "</style>\n",
       "<table border=\"1\" class=\"dataframe\">\n",
       "  <thead>\n",
       "    <tr style=\"text-align: right;\">\n",
       "      <th></th>\n",
       "      <th>ID</th>\n",
       "      <th>Age</th>\n",
       "      <th>Marks</th>\n",
       "    </tr>\n",
       "  </thead>\n",
       "  <tbody>\n",
       "    <tr>\n",
       "      <th>count</th>\n",
       "      <td>30.000000</td>\n",
       "      <td>30.000000</td>\n",
       "      <td>30.000000</td>\n",
       "    </tr>\n",
       "    <tr>\n",
       "      <th>mean</th>\n",
       "      <td>15.500000</td>\n",
       "      <td>21.400000</td>\n",
       "      <td>83.866667</td>\n",
       "    </tr>\n",
       "    <tr>\n",
       "      <th>std</th>\n",
       "      <td>8.803408</td>\n",
       "      <td>1.101723</td>\n",
       "      <td>5.519454</td>\n",
       "    </tr>\n",
       "    <tr>\n",
       "      <th>min</th>\n",
       "      <td>1.000000</td>\n",
       "      <td>20.000000</td>\n",
       "      <td>75.000000</td>\n",
       "    </tr>\n",
       "    <tr>\n",
       "      <th>25%</th>\n",
       "      <td>8.250000</td>\n",
       "      <td>20.250000</td>\n",
       "      <td>79.000000</td>\n",
       "    </tr>\n",
       "    <tr>\n",
       "      <th>50%</th>\n",
       "      <td>15.500000</td>\n",
       "      <td>21.000000</td>\n",
       "      <td>84.000000</td>\n",
       "    </tr>\n",
       "    <tr>\n",
       "      <th>75%</th>\n",
       "      <td>22.750000</td>\n",
       "      <td>22.000000</td>\n",
       "      <td>88.000000</td>\n",
       "    </tr>\n",
       "    <tr>\n",
       "      <th>max</th>\n",
       "      <td>30.000000</td>\n",
       "      <td>23.000000</td>\n",
       "      <td>93.000000</td>\n",
       "    </tr>\n",
       "  </tbody>\n",
       "</table>\n",
       "</div>"
      ],
      "text/plain": [
       "              ID        Age      Marks\n",
       "count  30.000000  30.000000  30.000000\n",
       "mean   15.500000  21.400000  83.866667\n",
       "std     8.803408   1.101723   5.519454\n",
       "min     1.000000  20.000000  75.000000\n",
       "25%     8.250000  20.250000  79.000000\n",
       "50%    15.500000  21.000000  84.000000\n",
       "75%    22.750000  22.000000  88.000000\n",
       "max    30.000000  23.000000  93.000000"
      ]
     },
     "execution_count": 7,
     "metadata": {},
     "output_type": "execute_result"
    }
   ],
   "source": [
    "df.describe()"
   ]
  },
  {
   "cell_type": "code",
   "execution_count": 8,
   "id": "7e2e8463-4e84-463d-a941-7331f4fcf2e6",
   "metadata": {},
   "outputs": [
    {
     "data": {
      "text/plain": [
       "ID        int64\n",
       "Name     object\n",
       "Age       int64\n",
       "Marks     int64\n",
       "dtype: object"
      ]
     },
     "execution_count": 8,
     "metadata": {},
     "output_type": "execute_result"
    }
   ],
   "source": [
    "df.dtypes"
   ]
  },
  {
   "cell_type": "code",
   "execution_count": 9,
   "id": "7f4f9332-ad8f-405d-a3c6-9fb433907745",
   "metadata": {},
   "outputs": [
    {
     "data": {
      "text/plain": [
       "120"
      ]
     },
     "execution_count": 9,
     "metadata": {},
     "output_type": "execute_result"
    }
   ],
   "source": [
    "df.size"
   ]
  },
  {
   "cell_type": "code",
   "execution_count": 10,
   "id": "3baeb6b6-3fc2-457a-af3b-305ab36c9bd3",
   "metadata": {},
   "outputs": [
    {
     "data": {
      "text/plain": [
       "(30, 4)"
      ]
     },
     "execution_count": 10,
     "metadata": {},
     "output_type": "execute_result"
    }
   ],
   "source": [
    "df.shape"
   ]
  },
  {
   "cell_type": "code",
   "execution_count": 11,
   "id": "cbb74a89-3d96-4e19-a764-93cf0ef5c64b",
   "metadata": {},
   "outputs": [
    {
     "name": "stdout",
     "output_type": "stream",
     "text": [
      "<class 'pandas.core.frame.DataFrame'>\n",
      "RangeIndex: 30 entries, 0 to 29\n",
      "Data columns (total 4 columns):\n",
      " #   Column  Non-Null Count  Dtype \n",
      "---  ------  --------------  ----- \n",
      " 0   ID      30 non-null     int64 \n",
      " 1   Name    30 non-null     object\n",
      " 2   Age     30 non-null     int64 \n",
      " 3   Marks   30 non-null     int64 \n",
      "dtypes: int64(3), object(1)\n",
      "memory usage: 1.1+ KB\n"
     ]
    }
   ],
   "source": [
    "df.info()"
   ]
  },
  {
   "cell_type": "code",
   "execution_count": 12,
   "id": "0d7a7533-0a1f-4af4-80fe-7d33747efa95",
   "metadata": {},
   "outputs": [
    {
     "data": {
      "text/plain": [
       "2"
      ]
     },
     "execution_count": 12,
     "metadata": {},
     "output_type": "execute_result"
    }
   ],
   "source": [
    "df.ndim"
   ]
  },
  {
   "cell_type": "code",
   "execution_count": 13,
   "id": "a0938e17-fe7d-4979-af41-dcb91d350833",
   "metadata": {},
   "outputs": [
    {
     "data": {
      "text/html": [
       "<div>\n",
       "<style scoped>\n",
       "    .dataframe tbody tr th:only-of-type {\n",
       "        vertical-align: middle;\n",
       "    }\n",
       "\n",
       "    .dataframe tbody tr th {\n",
       "        vertical-align: top;\n",
       "    }\n",
       "\n",
       "    .dataframe thead th {\n",
       "        text-align: right;\n",
       "    }\n",
       "</style>\n",
       "<table border=\"1\" class=\"dataframe\">\n",
       "  <thead>\n",
       "    <tr style=\"text-align: right;\">\n",
       "      <th></th>\n",
       "      <th>ID</th>\n",
       "      <th>Name</th>\n",
       "      <th>Age</th>\n",
       "      <th>Marks</th>\n",
       "    </tr>\n",
       "  </thead>\n",
       "  <tbody>\n",
       "    <tr>\n",
       "      <th>0</th>\n",
       "      <td>False</td>\n",
       "      <td>False</td>\n",
       "      <td>False</td>\n",
       "      <td>False</td>\n",
       "    </tr>\n",
       "    <tr>\n",
       "      <th>1</th>\n",
       "      <td>False</td>\n",
       "      <td>False</td>\n",
       "      <td>False</td>\n",
       "      <td>False</td>\n",
       "    </tr>\n",
       "    <tr>\n",
       "      <th>2</th>\n",
       "      <td>False</td>\n",
       "      <td>False</td>\n",
       "      <td>False</td>\n",
       "      <td>False</td>\n",
       "    </tr>\n",
       "    <tr>\n",
       "      <th>3</th>\n",
       "      <td>False</td>\n",
       "      <td>False</td>\n",
       "      <td>False</td>\n",
       "      <td>False</td>\n",
       "    </tr>\n",
       "    <tr>\n",
       "      <th>4</th>\n",
       "      <td>False</td>\n",
       "      <td>False</td>\n",
       "      <td>False</td>\n",
       "      <td>False</td>\n",
       "    </tr>\n",
       "    <tr>\n",
       "      <th>5</th>\n",
       "      <td>False</td>\n",
       "      <td>False</td>\n",
       "      <td>False</td>\n",
       "      <td>False</td>\n",
       "    </tr>\n",
       "    <tr>\n",
       "      <th>6</th>\n",
       "      <td>False</td>\n",
       "      <td>False</td>\n",
       "      <td>False</td>\n",
       "      <td>False</td>\n",
       "    </tr>\n",
       "    <tr>\n",
       "      <th>7</th>\n",
       "      <td>False</td>\n",
       "      <td>False</td>\n",
       "      <td>False</td>\n",
       "      <td>False</td>\n",
       "    </tr>\n",
       "    <tr>\n",
       "      <th>8</th>\n",
       "      <td>False</td>\n",
       "      <td>False</td>\n",
       "      <td>False</td>\n",
       "      <td>False</td>\n",
       "    </tr>\n",
       "    <tr>\n",
       "      <th>9</th>\n",
       "      <td>False</td>\n",
       "      <td>False</td>\n",
       "      <td>False</td>\n",
       "      <td>False</td>\n",
       "    </tr>\n",
       "    <tr>\n",
       "      <th>10</th>\n",
       "      <td>False</td>\n",
       "      <td>False</td>\n",
       "      <td>False</td>\n",
       "      <td>False</td>\n",
       "    </tr>\n",
       "    <tr>\n",
       "      <th>11</th>\n",
       "      <td>False</td>\n",
       "      <td>False</td>\n",
       "      <td>False</td>\n",
       "      <td>False</td>\n",
       "    </tr>\n",
       "    <tr>\n",
       "      <th>12</th>\n",
       "      <td>False</td>\n",
       "      <td>False</td>\n",
       "      <td>False</td>\n",
       "      <td>False</td>\n",
       "    </tr>\n",
       "    <tr>\n",
       "      <th>13</th>\n",
       "      <td>False</td>\n",
       "      <td>False</td>\n",
       "      <td>False</td>\n",
       "      <td>False</td>\n",
       "    </tr>\n",
       "    <tr>\n",
       "      <th>14</th>\n",
       "      <td>False</td>\n",
       "      <td>False</td>\n",
       "      <td>False</td>\n",
       "      <td>False</td>\n",
       "    </tr>\n",
       "    <tr>\n",
       "      <th>15</th>\n",
       "      <td>False</td>\n",
       "      <td>False</td>\n",
       "      <td>False</td>\n",
       "      <td>False</td>\n",
       "    </tr>\n",
       "    <tr>\n",
       "      <th>16</th>\n",
       "      <td>False</td>\n",
       "      <td>False</td>\n",
       "      <td>False</td>\n",
       "      <td>False</td>\n",
       "    </tr>\n",
       "    <tr>\n",
       "      <th>17</th>\n",
       "      <td>False</td>\n",
       "      <td>False</td>\n",
       "      <td>False</td>\n",
       "      <td>False</td>\n",
       "    </tr>\n",
       "    <tr>\n",
       "      <th>18</th>\n",
       "      <td>False</td>\n",
       "      <td>False</td>\n",
       "      <td>False</td>\n",
       "      <td>False</td>\n",
       "    </tr>\n",
       "    <tr>\n",
       "      <th>19</th>\n",
       "      <td>False</td>\n",
       "      <td>False</td>\n",
       "      <td>False</td>\n",
       "      <td>False</td>\n",
       "    </tr>\n",
       "    <tr>\n",
       "      <th>20</th>\n",
       "      <td>False</td>\n",
       "      <td>False</td>\n",
       "      <td>False</td>\n",
       "      <td>False</td>\n",
       "    </tr>\n",
       "    <tr>\n",
       "      <th>21</th>\n",
       "      <td>False</td>\n",
       "      <td>False</td>\n",
       "      <td>False</td>\n",
       "      <td>False</td>\n",
       "    </tr>\n",
       "    <tr>\n",
       "      <th>22</th>\n",
       "      <td>False</td>\n",
       "      <td>False</td>\n",
       "      <td>False</td>\n",
       "      <td>False</td>\n",
       "    </tr>\n",
       "    <tr>\n",
       "      <th>23</th>\n",
       "      <td>False</td>\n",
       "      <td>False</td>\n",
       "      <td>False</td>\n",
       "      <td>False</td>\n",
       "    </tr>\n",
       "    <tr>\n",
       "      <th>24</th>\n",
       "      <td>False</td>\n",
       "      <td>False</td>\n",
       "      <td>False</td>\n",
       "      <td>False</td>\n",
       "    </tr>\n",
       "    <tr>\n",
       "      <th>25</th>\n",
       "      <td>False</td>\n",
       "      <td>False</td>\n",
       "      <td>False</td>\n",
       "      <td>False</td>\n",
       "    </tr>\n",
       "    <tr>\n",
       "      <th>26</th>\n",
       "      <td>False</td>\n",
       "      <td>False</td>\n",
       "      <td>False</td>\n",
       "      <td>False</td>\n",
       "    </tr>\n",
       "    <tr>\n",
       "      <th>27</th>\n",
       "      <td>False</td>\n",
       "      <td>False</td>\n",
       "      <td>False</td>\n",
       "      <td>False</td>\n",
       "    </tr>\n",
       "    <tr>\n",
       "      <th>28</th>\n",
       "      <td>False</td>\n",
       "      <td>False</td>\n",
       "      <td>False</td>\n",
       "      <td>False</td>\n",
       "    </tr>\n",
       "    <tr>\n",
       "      <th>29</th>\n",
       "      <td>False</td>\n",
       "      <td>False</td>\n",
       "      <td>False</td>\n",
       "      <td>False</td>\n",
       "    </tr>\n",
       "  </tbody>\n",
       "</table>\n",
       "</div>"
      ],
      "text/plain": [
       "       ID   Name    Age  Marks\n",
       "0   False  False  False  False\n",
       "1   False  False  False  False\n",
       "2   False  False  False  False\n",
       "3   False  False  False  False\n",
       "4   False  False  False  False\n",
       "5   False  False  False  False\n",
       "6   False  False  False  False\n",
       "7   False  False  False  False\n",
       "8   False  False  False  False\n",
       "9   False  False  False  False\n",
       "10  False  False  False  False\n",
       "11  False  False  False  False\n",
       "12  False  False  False  False\n",
       "13  False  False  False  False\n",
       "14  False  False  False  False\n",
       "15  False  False  False  False\n",
       "16  False  False  False  False\n",
       "17  False  False  False  False\n",
       "18  False  False  False  False\n",
       "19  False  False  False  False\n",
       "20  False  False  False  False\n",
       "21  False  False  False  False\n",
       "22  False  False  False  False\n",
       "23  False  False  False  False\n",
       "24  False  False  False  False\n",
       "25  False  False  False  False\n",
       "26  False  False  False  False\n",
       "27  False  False  False  False\n",
       "28  False  False  False  False\n",
       "29  False  False  False  False"
      ]
     },
     "execution_count": 13,
     "metadata": {},
     "output_type": "execute_result"
    }
   ],
   "source": [
    "df.isnull()"
   ]
  },
  {
   "cell_type": "code",
   "execution_count": 14,
   "id": "f9a2593d-378d-4662-a078-ec01c082a431",
   "metadata": {},
   "outputs": [
    {
     "data": {
      "text/plain": [
       "ID       0\n",
       "Name     0\n",
       "Age      0\n",
       "Marks    0\n",
       "dtype: int64"
      ]
     },
     "execution_count": 14,
     "metadata": {},
     "output_type": "execute_result"
    }
   ],
   "source": [
    "df.isnull().sum()"
   ]
  },
  {
   "cell_type": "code",
   "execution_count": 15,
   "id": "2ef5b27f-b71c-43cb-bd21-6056ceaa988b",
   "metadata": {},
   "outputs": [
    {
     "data": {
      "text/html": [
       "<div>\n",
       "<style scoped>\n",
       "    .dataframe tbody tr th:only-of-type {\n",
       "        vertical-align: middle;\n",
       "    }\n",
       "\n",
       "    .dataframe tbody tr th {\n",
       "        vertical-align: top;\n",
       "    }\n",
       "\n",
       "    .dataframe thead th {\n",
       "        text-align: right;\n",
       "    }\n",
       "</style>\n",
       "<table border=\"1\" class=\"dataframe\">\n",
       "  <thead>\n",
       "    <tr style=\"text-align: right;\">\n",
       "      <th></th>\n",
       "      <th>ID</th>\n",
       "      <th>Name</th>\n",
       "      <th>Age</th>\n",
       "      <th>Marks</th>\n",
       "    </tr>\n",
       "  </thead>\n",
       "  <tbody>\n",
       "    <tr>\n",
       "      <th>0</th>\n",
       "      <td>True</td>\n",
       "      <td>True</td>\n",
       "      <td>True</td>\n",
       "      <td>True</td>\n",
       "    </tr>\n",
       "    <tr>\n",
       "      <th>1</th>\n",
       "      <td>True</td>\n",
       "      <td>True</td>\n",
       "      <td>True</td>\n",
       "      <td>True</td>\n",
       "    </tr>\n",
       "    <tr>\n",
       "      <th>2</th>\n",
       "      <td>True</td>\n",
       "      <td>True</td>\n",
       "      <td>True</td>\n",
       "      <td>True</td>\n",
       "    </tr>\n",
       "    <tr>\n",
       "      <th>3</th>\n",
       "      <td>True</td>\n",
       "      <td>True</td>\n",
       "      <td>True</td>\n",
       "      <td>True</td>\n",
       "    </tr>\n",
       "    <tr>\n",
       "      <th>4</th>\n",
       "      <td>True</td>\n",
       "      <td>True</td>\n",
       "      <td>True</td>\n",
       "      <td>True</td>\n",
       "    </tr>\n",
       "    <tr>\n",
       "      <th>5</th>\n",
       "      <td>True</td>\n",
       "      <td>True</td>\n",
       "      <td>True</td>\n",
       "      <td>True</td>\n",
       "    </tr>\n",
       "    <tr>\n",
       "      <th>6</th>\n",
       "      <td>True</td>\n",
       "      <td>True</td>\n",
       "      <td>True</td>\n",
       "      <td>True</td>\n",
       "    </tr>\n",
       "    <tr>\n",
       "      <th>7</th>\n",
       "      <td>True</td>\n",
       "      <td>True</td>\n",
       "      <td>True</td>\n",
       "      <td>True</td>\n",
       "    </tr>\n",
       "    <tr>\n",
       "      <th>8</th>\n",
       "      <td>True</td>\n",
       "      <td>True</td>\n",
       "      <td>True</td>\n",
       "      <td>True</td>\n",
       "    </tr>\n",
       "    <tr>\n",
       "      <th>9</th>\n",
       "      <td>True</td>\n",
       "      <td>True</td>\n",
       "      <td>True</td>\n",
       "      <td>True</td>\n",
       "    </tr>\n",
       "    <tr>\n",
       "      <th>10</th>\n",
       "      <td>True</td>\n",
       "      <td>True</td>\n",
       "      <td>True</td>\n",
       "      <td>True</td>\n",
       "    </tr>\n",
       "    <tr>\n",
       "      <th>11</th>\n",
       "      <td>True</td>\n",
       "      <td>True</td>\n",
       "      <td>True</td>\n",
       "      <td>True</td>\n",
       "    </tr>\n",
       "    <tr>\n",
       "      <th>12</th>\n",
       "      <td>True</td>\n",
       "      <td>True</td>\n",
       "      <td>True</td>\n",
       "      <td>True</td>\n",
       "    </tr>\n",
       "    <tr>\n",
       "      <th>13</th>\n",
       "      <td>True</td>\n",
       "      <td>True</td>\n",
       "      <td>True</td>\n",
       "      <td>True</td>\n",
       "    </tr>\n",
       "    <tr>\n",
       "      <th>14</th>\n",
       "      <td>True</td>\n",
       "      <td>True</td>\n",
       "      <td>True</td>\n",
       "      <td>True</td>\n",
       "    </tr>\n",
       "    <tr>\n",
       "      <th>15</th>\n",
       "      <td>True</td>\n",
       "      <td>True</td>\n",
       "      <td>True</td>\n",
       "      <td>True</td>\n",
       "    </tr>\n",
       "    <tr>\n",
       "      <th>16</th>\n",
       "      <td>True</td>\n",
       "      <td>True</td>\n",
       "      <td>True</td>\n",
       "      <td>True</td>\n",
       "    </tr>\n",
       "    <tr>\n",
       "      <th>17</th>\n",
       "      <td>True</td>\n",
       "      <td>True</td>\n",
       "      <td>True</td>\n",
       "      <td>True</td>\n",
       "    </tr>\n",
       "    <tr>\n",
       "      <th>18</th>\n",
       "      <td>True</td>\n",
       "      <td>True</td>\n",
       "      <td>True</td>\n",
       "      <td>True</td>\n",
       "    </tr>\n",
       "    <tr>\n",
       "      <th>19</th>\n",
       "      <td>True</td>\n",
       "      <td>True</td>\n",
       "      <td>True</td>\n",
       "      <td>True</td>\n",
       "    </tr>\n",
       "    <tr>\n",
       "      <th>20</th>\n",
       "      <td>True</td>\n",
       "      <td>True</td>\n",
       "      <td>True</td>\n",
       "      <td>True</td>\n",
       "    </tr>\n",
       "    <tr>\n",
       "      <th>21</th>\n",
       "      <td>True</td>\n",
       "      <td>True</td>\n",
       "      <td>True</td>\n",
       "      <td>True</td>\n",
       "    </tr>\n",
       "    <tr>\n",
       "      <th>22</th>\n",
       "      <td>True</td>\n",
       "      <td>True</td>\n",
       "      <td>True</td>\n",
       "      <td>True</td>\n",
       "    </tr>\n",
       "    <tr>\n",
       "      <th>23</th>\n",
       "      <td>True</td>\n",
       "      <td>True</td>\n",
       "      <td>True</td>\n",
       "      <td>True</td>\n",
       "    </tr>\n",
       "    <tr>\n",
       "      <th>24</th>\n",
       "      <td>True</td>\n",
       "      <td>True</td>\n",
       "      <td>True</td>\n",
       "      <td>True</td>\n",
       "    </tr>\n",
       "    <tr>\n",
       "      <th>25</th>\n",
       "      <td>True</td>\n",
       "      <td>True</td>\n",
       "      <td>True</td>\n",
       "      <td>True</td>\n",
       "    </tr>\n",
       "    <tr>\n",
       "      <th>26</th>\n",
       "      <td>True</td>\n",
       "      <td>True</td>\n",
       "      <td>True</td>\n",
       "      <td>True</td>\n",
       "    </tr>\n",
       "    <tr>\n",
       "      <th>27</th>\n",
       "      <td>True</td>\n",
       "      <td>True</td>\n",
       "      <td>True</td>\n",
       "      <td>True</td>\n",
       "    </tr>\n",
       "    <tr>\n",
       "      <th>28</th>\n",
       "      <td>True</td>\n",
       "      <td>True</td>\n",
       "      <td>True</td>\n",
       "      <td>True</td>\n",
       "    </tr>\n",
       "    <tr>\n",
       "      <th>29</th>\n",
       "      <td>True</td>\n",
       "      <td>True</td>\n",
       "      <td>True</td>\n",
       "      <td>True</td>\n",
       "    </tr>\n",
       "  </tbody>\n",
       "</table>\n",
       "</div>"
      ],
      "text/plain": [
       "      ID  Name   Age  Marks\n",
       "0   True  True  True   True\n",
       "1   True  True  True   True\n",
       "2   True  True  True   True\n",
       "3   True  True  True   True\n",
       "4   True  True  True   True\n",
       "5   True  True  True   True\n",
       "6   True  True  True   True\n",
       "7   True  True  True   True\n",
       "8   True  True  True   True\n",
       "9   True  True  True   True\n",
       "10  True  True  True   True\n",
       "11  True  True  True   True\n",
       "12  True  True  True   True\n",
       "13  True  True  True   True\n",
       "14  True  True  True   True\n",
       "15  True  True  True   True\n",
       "16  True  True  True   True\n",
       "17  True  True  True   True\n",
       "18  True  True  True   True\n",
       "19  True  True  True   True\n",
       "20  True  True  True   True\n",
       "21  True  True  True   True\n",
       "22  True  True  True   True\n",
       "23  True  True  True   True\n",
       "24  True  True  True   True\n",
       "25  True  True  True   True\n",
       "26  True  True  True   True\n",
       "27  True  True  True   True\n",
       "28  True  True  True   True\n",
       "29  True  True  True   True"
      ]
     },
     "execution_count": 15,
     "metadata": {},
     "output_type": "execute_result"
    }
   ],
   "source": [
    "df.notnull()"
   ]
  },
  {
   "cell_type": "code",
   "execution_count": 16,
   "id": "69db9488-bc53-4de7-a8b0-df2550b834c4",
   "metadata": {},
   "outputs": [
    {
     "data": {
      "text/plain": [
       "ID       30\n",
       "Name     30\n",
       "Age      30\n",
       "Marks    30\n",
       "dtype: int64"
      ]
     },
     "execution_count": 16,
     "metadata": {},
     "output_type": "execute_result"
    }
   ],
   "source": [
    "df.notnull().sum()"
   ]
  },
  {
   "cell_type": "code",
   "execution_count": 17,
   "id": "29d06e84-cc0f-420a-abd4-03e561237077",
   "metadata": {},
   "outputs": [],
   "source": [
    "df.dropna(inplace = True)"
   ]
  },
  {
   "cell_type": "code",
   "execution_count": 18,
   "id": "38d7c4b3-3912-448a-9dc8-eba5bd3606bf",
   "metadata": {},
   "outputs": [
    {
     "data": {
      "text/plain": [
       "ID                                                     465\n",
       "Name     AkashPriyaRahulNehaAmanSanyaRohanPoojaRajSneha...\n",
       "Age                                                    642\n",
       "Marks                                                 2516\n",
       "dtype: object"
      ]
     },
     "execution_count": 18,
     "metadata": {},
     "output_type": "execute_result"
    }
   ],
   "source": [
    "df.sum()"
   ]
  },
  {
   "cell_type": "code",
   "execution_count": 19,
   "id": "417e0897-b429-4213-9c64-14b5dae9732a",
   "metadata": {},
   "outputs": [
    {
     "data": {
      "text/plain": [
       "<bound method Series.unique of 0     85\n",
       "1     78\n",
       "2     92\n",
       "3     75\n",
       "4     88\n",
       "5     82\n",
       "6     79\n",
       "7     90\n",
       "8     85\n",
       "9     77\n",
       "10    84\n",
       "11    89\n",
       "12    91\n",
       "13    76\n",
       "14    83\n",
       "15    87\n",
       "16    80\n",
       "17    93\n",
       "18    79\n",
       "19    86\n",
       "20    81\n",
       "21    88\n",
       "22    77\n",
       "23    92\n",
       "24    84\n",
       "25    79\n",
       "26    88\n",
       "27    75\n",
       "28    90\n",
       "29    83\n",
       "Name: Marks, dtype: int64>"
      ]
     },
     "execution_count": 19,
     "metadata": {},
     "output_type": "execute_result"
    }
   ],
   "source": [
    "df['Marks'].unique"
   ]
  },
  {
   "cell_type": "code",
   "execution_count": 20,
   "id": "7279162d-e36e-4261-b024-076db5b91496",
   "metadata": {},
   "outputs": [],
   "source": [
    "df['Marks']=df['Marks'].astype('float')"
   ]
  },
  {
   "cell_type": "code",
   "execution_count": 21,
   "id": "80520208-3988-41e4-8c4c-f7e7410b200f",
   "metadata": {
    "scrolled": true
   },
   "outputs": [
    {
     "name": "stdout",
     "output_type": "stream",
     "text": [
      "<class 'pandas.core.frame.DataFrame'>\n",
      "RangeIndex: 30 entries, 0 to 29\n",
      "Data columns (total 4 columns):\n",
      " #   Column  Non-Null Count  Dtype  \n",
      "---  ------  --------------  -----  \n",
      " 0   ID      30 non-null     int64  \n",
      " 1   Name    30 non-null     object \n",
      " 2   Age     30 non-null     int64  \n",
      " 3   Marks   30 non-null     float64\n",
      "dtypes: float64(1), int64(2), object(1)\n",
      "memory usage: 1.1+ KB\n"
     ]
    }
   ],
   "source": [
    "df.info()"
   ]
  },
  {
   "cell_type": "code",
   "execution_count": null,
   "id": "fc432cd5-6149-4a0e-b889-0e7d1ca41775",
   "metadata": {},
   "outputs": [],
   "source": [
    "#Stastics"
   ]
  },
  {
   "cell_type": "code",
   "execution_count": 22,
   "id": "de71f33a-9fd0-45ba-a503-5895c1d0c38f",
   "metadata": {},
   "outputs": [],
   "source": [
    "df[\"Age\"] = df[\"Age\"].replace(np.NaN, df[\"Age\"].mean())"
   ]
  },
  {
   "cell_type": "code",
   "execution_count": 23,
   "id": "8f6e9645-4bd5-4d42-8e5b-631d81c9bae3",
   "metadata": {},
   "outputs": [],
   "source": [
    "df[\"Age\"] = df[\"Age\"].replace(np.NaN, df[\"Age\"].median())"
   ]
  },
  {
   "cell_type": "code",
   "execution_count": 25,
   "id": "aac66d50-18d4-4e07-babb-95acf8d0ae18",
   "metadata": {},
   "outputs": [],
   "source": [
    "df[\"Age\"] = df[\"Age\"].replace(np.NaN, df[\"Age\"].median())"
   ]
  },
  {
   "cell_type": "code",
   "execution_count": 27,
   "id": "1193584f-fc49-4d9a-b0ac-d111351f118c",
   "metadata": {},
   "outputs": [],
   "source": [
    "#missing values - categorical - solution\n",
    "df[\"Marks\"] = df[\"Marks\"].fillna(df[\"Marks\"].mean())"
   ]
  },
  {
   "cell_type": "code",
   "execution_count": 38,
   "id": "dd0d5f13-1e4e-4d6e-900f-9cddeeca60c3",
   "metadata": {},
   "outputs": [
    {
     "data": {
      "text/plain": [
       "21.4"
      ]
     },
     "execution_count": 38,
     "metadata": {},
     "output_type": "execute_result"
    }
   ],
   "source": [
    "df[\"Age\"].mean()"
   ]
  },
  {
   "cell_type": "code",
   "execution_count": 39,
   "id": "fd92b527-bc1b-4ca1-823b-e68bb5ad833c",
   "metadata": {},
   "outputs": [
    {
     "data": {
      "text/plain": [
       "21.0"
      ]
     },
     "execution_count": 39,
     "metadata": {},
     "output_type": "execute_result"
    }
   ],
   "source": [
    "df[\"Age\"].median()"
   ]
  },
  {
   "cell_type": "code",
   "execution_count": 40,
   "id": "5f3c818f-922b-46c6-b3f0-da002bbc118e",
   "metadata": {},
   "outputs": [
    {
     "data": {
      "text/plain": [
       "0    20\n",
       "1    21\n",
       "2    22\n",
       "Name: Age, dtype: int64"
      ]
     },
     "execution_count": 40,
     "metadata": {},
     "output_type": "execute_result"
    }
   ],
   "source": [
    "df[\"Age\"].mode()"
   ]
  },
  {
   "cell_type": "code",
   "execution_count": 41,
   "id": "7988dd23-8c09-432b-ba2a-12d2198011f9",
   "metadata": {},
   "outputs": [
    {
     "data": {
      "text/plain": [
       "1.1017227888394958"
      ]
     },
     "execution_count": 41,
     "metadata": {},
     "output_type": "execute_result"
    }
   ],
   "source": [
    "df[\"Age\"].std()"
   ]
  },
  {
   "cell_type": "code",
   "execution_count": 42,
   "id": "d084f6b6-c4cc-4f54-81b1-a233b5ebe561",
   "metadata": {},
   "outputs": [
    {
     "data": {
      "text/plain": [
       "20"
      ]
     },
     "execution_count": 42,
     "metadata": {},
     "output_type": "execute_result"
    }
   ],
   "source": [
    "df[\"Age\"].min()"
   ]
  },
  {
   "cell_type": "code",
   "execution_count": 43,
   "id": "12d78b37-d83b-4084-a1b1-a2df9b05485b",
   "metadata": {},
   "outputs": [
    {
     "data": {
      "text/plain": [
       "23"
      ]
     },
     "execution_count": 43,
     "metadata": {},
     "output_type": "execute_result"
    }
   ],
   "source": [
    "df[\"Age\"].max()"
   ]
  },
  {
   "cell_type": "code",
   "execution_count": 44,
   "id": "57fb3482-b2bd-4435-82be-2c08bea3610f",
   "metadata": {},
   "outputs": [],
   "source": [
    "import matplotlib.pyplot as plt\n",
    "import seaborn as sns\n",
    "get_ipython().run_line_magic('matplotlib', 'inline')"
   ]
  },
  {
   "cell_type": "code",
   "execution_count": 45,
   "id": "eafeeeed-9f7c-407b-a71e-708fd90a3e3d",
   "metadata": {},
   "outputs": [],
   "source": [
    "df['Marks'] = pd.to_numeric(df['Marks'], errors='coerce')"
   ]
  },
  {
   "cell_type": "code",
   "execution_count": 46,
   "id": "0f8b2065-b5c5-4e9c-bc29-3efe269a3771",
   "metadata": {},
   "outputs": [],
   "source": [
    "#Outliers"
   ]
  },
  {
   "cell_type": "code",
   "execution_count": 47,
   "id": "0a01c2f9-7fcb-4eef-9afe-0b8f16250e72",
   "metadata": {},
   "outputs": [
    {
     "data": {
      "text/plain": [
       "<Axes: ylabel='Marks'>"
      ]
     },
     "execution_count": 47,
     "metadata": {},
     "output_type": "execute_result"
    },
    {
     "data": {
      "image/png": "[encoded data removed]",
      "text/plain": [
       "<Figure size 640x480 with 1 Axes>"
      ]
     },
     "metadata": {},
     "output_type": "display_data"
    }
   ],
   "source": [
    "sns.boxplot(y=df['Marks'])"
   ]
  },
  {
   "cell_type": "code",
   "execution_count": 48,
   "id": "3321a3e6-61df-4905-9888-4f78e1cc70e6",
   "metadata": {},
   "outputs": [],
   "source": [
    "first_outlier = [16, 'n', 200, 'P']\n",
    "second_outlier = [17, 'o', -100, 'F']"
   ]
  },
  {
   "cell_type": "code",
   "execution_count": 49,
   "id": "d1418749-28c7-46a6-b168-7d5c5b88a70f",
   "metadata": {},
   "outputs": [
    {
     "data": {
      "image/png": "[encoded data removed]",
      "text/plain": [
       "<Figure size 640x480 with 1 Axes>"
      ]
     },
     "metadata": {},
     "output_type": "display_data"
    }
   ],
   "source": [
    "sns.countplot(data=df, x=df['Marks']);"
   ]
  },
  {
   "cell_type": "code",
   "execution_count": 50,
   "id": "302615cd-349f-4ed1-a526-ccb8c78718b0",
   "metadata": {},
   "outputs": [
    {
     "data": {
      "image/png": "[encoded data removed]",
      "text/plain": [
       "<Figure size 640x480 with 1 Axes>"
      ]
     },
     "metadata": {},
     "output_type": "display_data"
    }
   ],
   "source": [
    "sns.countplot(data=df, x=df['Age']);"
   ]
  },
  {
   "cell_type": "code",
   "execution_count": 51,
   "id": "d2d3e317-4fd9-4946-a332-bfb4c512c87c",
   "metadata": {},
   "outputs": [
    {
     "data": {
      "image/png": "[encoded data removed]",
      "text/plain": [
       "<Figure size 640x480 with 1 Axes>"
      ]
     },
     "metadata": {},
     "output_type": "display_data"
    }
   ],
   "source": [
    "sns.boxplot(data=df, x=df['Age']);"
   ]
  },
  {
   "cell_type": "code",
   "execution_count": 52,
   "id": "3f06063c-256a-4e5a-99b6-ef9fbfaed1d8",
   "metadata": {},
   "outputs": [
    {
     "data": {
      "image/png": "[encoded data removed]",
      "text/plain": [
       "<Figure size 640x480 with 1 Axes>"
      ]
     },
     "metadata": {},
     "output_type": "display_data"
    }
   ],
   "source": [
    "sns.boxplot(data=df, x=df['Marks'],y=df['Age']);"
   ]
  },
  {
   "cell_type": "code",
   "execution_count": 53,
   "id": "ad62e9cc-c661-49fd-88c9-e67147c7a996",
   "metadata": {},
   "outputs": [
    {
     "data": {
      "image/png": "[encoded data removed]",
      "text/plain": [
       "<Figure size 640x480 with 1 Axes>"
      ]
     },
     "metadata": {},
     "output_type": "display_data"
    }
   ],
   "source": [
    "sns.boxplot(data=df, x=df['Age'],y=df['Marks']);"
   ]
  },
  {
   "cell_type": "code",
   "execution_count": 55,
   "id": "ebf2ecff-d323-448c-bf95-f098b7b98e55",
   "metadata": {},
   "outputs": [
    {
     "name": "stdout",
     "output_type": "stream",
     "text": [
      "Mean of the marks in the given series: 83.86666666666666\n",
      "Standard deviation of marks in the given series: 5.426683046658326\n",
      "Outliers in the dataset (marks): []\n"
     ]
    }
   ],
   "source": [
    "marks = df['Marks']\n",
    "mean = np.mean(marks)\n",
    "std = np.std(marks)\n",
    "\n",
    "print('Mean of the marks in the given series:', mean)\n",
    "print('Standard deviation of marks in the given series:', std)\n",
    "\n",
    "threshold = 3\n",
    "\n",
    "# Find outliers using Z-scores\n",
    "outliers = []\n",
    "for mark in marks:\n",
    "    z = (mark - mean) / std\n",
    "    if z > threshold:\n",
    "        outliers.append(mark)\n",
    "\n",
    "print('Outliers in the dataset (marks):', outliers)\n"
   ]
  },
  {
   "cell_type": "code",
   "execution_count": 56,
   "id": "3182160e-ad97-471d-99aa-b3155591f1f9",
   "metadata": {},
   "outputs": [
    {
     "name": "stdout",
     "output_type": "stream",
     "text": [
      "Lower bound for outliers: 65.5\n",
      "Upper bound for outliers: 101.5\n",
      "Outliers in the dataset (marks): []\n"
     ]
    }
   ],
   "source": [
    "marks = df['Marks']\n",
    "Q1 = np.percentile(marks, 25)\n",
    "Q3 = np.percentile(marks, 75)\n",
    "\n",
    "IQR = Q3 - Q1\n",
    "\n",
    "lower_bound = Q1 - 1.5 * IQR\n",
    "upper_bound = Q3 + 1.5 * IQR\n",
    "\n",
    "# Identify outliers\n",
    "outliers = marks[(marks < lower_bound) | (marks > upper_bound)]\n",
    "\n",
    "print('Lower bound for outliers:', lower_bound)\n",
    "print('Upper bound for outliers:', upper_bound)\n",
    "print('Outliers in the dataset (marks):', outliers.tolist())"
   ]
  },
  {
   "cell_type": "code",
   "execution_count": 58,
   "id": "eb9a6b44-5fbd-44aa-9e4e-685c2aead1c8",
   "metadata": {},
   "outputs": [
    {
     "data": {
      "text/plain": [
       "<Axes: >"
      ]
     },
     "execution_count": 58,
     "metadata": {},
     "output_type": "execute_result"
    },
    {
     "data": {
      "image/png": "[encoded data removed]",
      "text/plain": [
       "<Figure size 640x480 with 1 Axes>"
      ]
     },
     "metadata": {},
     "output_type": "display_data"
    }
   ],
   "source": [
    "sns.boxplot(df['Marks'])"
   ]
  },
  {
   "cell_type": "code",
   "execution_count": 59,
   "id": "5a62a7c2-a631-42e4-b8b9-42ccf4fc3d65",
   "metadata": {},
   "outputs": [],
   "source": [
    "#Data Transformation"
   ]
  },
  {
   "cell_type": "code",
   "execution_count": 61,
   "id": "5e999bfb-5781-45b9-be72-93e4f0b633db",
   "metadata": {},
   "outputs": [],
   "source": [
    "from sklearn.preprocessing import MinMaxScaler"
   ]
  },
  {
   "cell_type": "code",
   "execution_count": 63,
   "id": "3e3d14b2-82bf-4108-a2a4-8c31a835e15c",
   "metadata": {},
   "outputs": [],
   "source": [
    "scaler = MinMaxScaler(feature_range=(5, 10))"
   ]
  },
  {
   "cell_type": "code",
   "execution_count": 65,
   "id": "472310d0-23ee-4d2a-a129-a7b8fd9bc236",
   "metadata": {},
   "outputs": [
    {
     "name": "stdout",
     "output_type": "stream",
     "text": [
      "    Marks  Marks_MinMax_Scaled\n",
      "0    85.0             0.555556\n",
      "1    78.0             0.166667\n",
      "2    92.0             0.944444\n",
      "3    75.0             0.000000\n",
      "4    88.0             0.722222\n",
      "5    82.0             0.388889\n",
      "6    79.0             0.222222\n",
      "7    90.0             0.833333\n",
      "8    85.0             0.555556\n",
      "9    77.0             0.111111\n",
      "10   84.0             0.500000\n",
      "11   89.0             0.777778\n",
      "12   91.0             0.888889\n",
      "13   76.0             0.055556\n",
      "14   83.0             0.444444\n",
      "15   87.0             0.666667\n",
      "16   80.0             0.277778\n",
      "17   93.0             1.000000\n",
      "18   79.0             0.222222\n",
      "19   86.0             0.611111\n",
      "20   81.0             0.333333\n",
      "21   88.0             0.722222\n",
      "22   77.0             0.111111\n",
      "23   92.0             0.944444\n",
      "24   84.0             0.500000\n",
      "25   79.0             0.222222\n",
      "26   88.0             0.722222\n",
      "27   75.0             0.000000\n",
      "28   90.0             0.833333\n",
      "29   83.0             0.444444\n"
     ]
    }
   ],
   "source": [
    "marks = df['Marks'].values.reshape(-1, 1)  # Reshape to 2D array as expected by Scaler\n",
    "\n",
    "# MinMaxScaler\n",
    "minmax_scaler = MinMaxScaler()\n",
    "marks_minmax_scaled = minmax_scaler.fit_transform(marks)\n",
    "\n",
    "# Create new DataFrame to store scaled marks\n",
    "scaled_df_minmax = pd.DataFrame({\n",
    "    'Marks': df['Marks'],\n",
    "    'Marks_MinMax_Scaled': marks_minmax_scaled.flatten()\n",
    "})\n",
    "\n",
    "print(scaled_df_minmax)\n"
   ]
  },
  {
   "cell_type": "code",
   "execution_count": 67,
   "id": "a6cd659f-b865-444f-876d-958c74cd9e2c",
   "metadata": {},
   "outputs": [
    {
     "name": "stdout",
     "output_type": "stream",
     "text": [
      "    Marks  Marks_Standard_Scaled\n",
      "0    85.0               0.208845\n",
      "1    78.0              -1.081078\n",
      "2    92.0               1.498767\n",
      "3    75.0              -1.633902\n",
      "4    88.0               0.761668\n",
      "5    82.0              -0.343979\n",
      "6    79.0              -0.896803\n",
      "7    90.0               1.130218\n",
      "8    85.0               0.208845\n",
      "9    77.0              -1.265352\n",
      "10   84.0               0.024570\n",
      "11   89.0               0.945943\n",
      "12   91.0               1.314492\n",
      "13   76.0              -1.449627\n",
      "14   83.0              -0.159705\n",
      "15   87.0               0.577394\n",
      "16   80.0              -0.712529\n",
      "17   93.0               1.683042\n",
      "18   79.0              -0.896803\n",
      "19   86.0               0.393119\n",
      "20   81.0              -0.528254\n",
      "21   88.0               0.761668\n",
      "22   77.0              -1.265352\n",
      "23   92.0               1.498767\n",
      "24   84.0               0.024570\n",
      "25   79.0              -0.896803\n",
      "26   88.0               0.761668\n",
      "27   75.0              -1.633902\n",
      "28   90.0               1.130218\n",
      "29   83.0              -0.159705\n"
     ]
    }
   ],
   "source": [
    "from sklearn.preprocessing import StandardScaler\n",
    "marks = df['Marks'].values.reshape(-1, 1)  # Reshape to 2D array as expected by Scaler\n",
    "\n",
    "# StandardScaler\n",
    "standard_scaler = StandardScaler()\n",
    "marks_standard_scaled = standard_scaler.fit_transform(marks)\n",
    "\n",
    "# Create new DataFrame to store scaled marks\n",
    "scaled_df_standard = pd.DataFrame({\n",
    "    'Marks': df['Marks'],\n",
    "    'Marks_Standard_Scaled': marks_standard_scaled.flatten()\n",
    "})\n",
    "\n",
    "print(scaled_df_standard)\n"
   ]
  },
  {
   "cell_type": "code",
   "execution_count": 68,
   "id": "70e46637-be85-4aaa-afa5-3f351e5a56db",
   "metadata": {},
   "outputs": [
    {
     "name": "stdout",
     "output_type": "stream",
     "text": [
      "    Marks  Marks_MaxAbs_Scaled\n",
      "0    85.0             0.913978\n",
      "1    78.0             0.838710\n",
      "2    92.0             0.989247\n",
      "3    75.0             0.806452\n",
      "4    88.0             0.946237\n",
      "5    82.0             0.881720\n",
      "6    79.0             0.849462\n",
      "7    90.0             0.967742\n",
      "8    85.0             0.913978\n",
      "9    77.0             0.827957\n",
      "10   84.0             0.903226\n",
      "11   89.0             0.956989\n",
      "12   91.0             0.978495\n",
      "13   76.0             0.817204\n",
      "14   83.0             0.892473\n",
      "15   87.0             0.935484\n",
      "16   80.0             0.860215\n",
      "17   93.0             1.000000\n",
      "18   79.0             0.849462\n",
      "19   86.0             0.924731\n",
      "20   81.0             0.870968\n",
      "21   88.0             0.946237\n",
      "22   77.0             0.827957\n",
      "23   92.0             0.989247\n",
      "24   84.0             0.903226\n",
      "25   79.0             0.849462\n",
      "26   88.0             0.946237\n",
      "27   75.0             0.806452\n",
      "28   90.0             0.967742\n",
      "29   83.0             0.892473\n"
     ]
    }
   ],
   "source": [
    "from sklearn.preprocessing import MaxAbsScaler\n",
    "import pandas as pd\n",
    "\n",
    "marks = df['Marks'].values.reshape(-1, 1)  # Reshape to 2D array as expected by Scaler\n",
    "\n",
    "# MaxAbsScaler\n",
    "maxabs_scaler = MaxAbsScaler()\n",
    "marks_maxabs_scaled = maxabs_scaler.fit_transform(marks)\n",
    "\n",
    "# Create new DataFrame to store scaled marks\n",
    "scaled_df_maxabs = pd.DataFrame({\n",
    "    'Marks': df['Marks'],\n",
    "    'Marks_MaxAbs_Scaled': marks_maxabs_scaled.flatten()\n",
    "})\n",
    "\n",
    "print(scaled_df_maxabs)\n"
   ]
  },
  {
   "cell_type": "code",
   "execution_count": 69,
   "id": "87bce49f-17fd-4651-8333-3ea2371fb452",
   "metadata": {},
   "outputs": [
    {
     "name": "stdout",
     "output_type": "stream",
     "text": [
      "    Marks  Marks_Robust_Scaled\n",
      "0    85.0             0.111111\n",
      "1    78.0            -0.666667\n",
      "2    92.0             0.888889\n",
      "3    75.0            -1.000000\n",
      "4    88.0             0.444444\n",
      "5    82.0            -0.222222\n",
      "6    79.0            -0.555556\n",
      "7    90.0             0.666667\n",
      "8    85.0             0.111111\n",
      "9    77.0            -0.777778\n",
      "10   84.0             0.000000\n",
      "11   89.0             0.555556\n",
      "12   91.0             0.777778\n",
      "13   76.0            -0.888889\n",
      "14   83.0            -0.111111\n",
      "15   87.0             0.333333\n",
      "16   80.0            -0.444444\n",
      "17   93.0             1.000000\n",
      "18   79.0            -0.555556\n",
      "19   86.0             0.222222\n",
      "20   81.0            -0.333333\n",
      "21   88.0             0.444444\n",
      "22   77.0            -0.777778\n",
      "23   92.0             0.888889\n",
      "24   84.0             0.000000\n",
      "25   79.0            -0.555556\n",
      "26   88.0             0.444444\n",
      "27   75.0            -1.000000\n",
      "28   90.0             0.666667\n",
      "29   83.0            -0.111111\n"
     ]
    }
   ],
   "source": [
    "from sklearn.preprocessing import RobustScaler\n",
    "import pandas as pd\n",
    "\n",
    "marks = df['Marks'].values.reshape(-1, 1)  # Reshape to 2D array as expected by Scaler\n",
    "\n",
    "# RobustScaler\n",
    "robust_scaler = RobustScaler()\n",
    "marks_robust_scaled = robust_scaler.fit_transform(marks)\n",
    "\n",
    "# Create new DataFrame to store scaled marks\n",
    "scaled_df_robust = pd.DataFrame({\n",
    "    'Marks': df['Marks'],\n",
    "    'Marks_Robust_Scaled': marks_robust_scaled.flatten()\n",
    "})\n",
    "\n",
    "print(scaled_df_robust)\n"
   ]
  },
  {
   "cell_type": "code",
   "execution_count": null,
   "id": "5b10b54a-3a5c-4127-bd2b-de9ed5004e11",
   "metadata": {},
   "outputs": [],
   "source": []
  }
 ],
 "metadata": {
  "kernelspec": {
   "display_name": "Python 3 (ipykernel)",
   "language": "python",
   "name": "python3"
  },
  "language_info": {
   "codemirror_mode": {
    "name": "ipython",
    "version": 3
   },
   "file_extension": ".py",
   "mimetype": "text/x-python",
   "name": "python",
   "nbconvert_exporter": "python",
   "pygments_lexer": "ipython3",
   "version": "3.9.7"
  }
 },
 "nbformat": 4,
 "nbformat_minor": 5
}
