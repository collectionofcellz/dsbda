{
 "cells": [
  {
   "cell_type": "code",
   "execution_count": 1,
   "id": "b3e2acb2-e1cf-4c32-b783-aba754ea9fa9",
   "metadata": {},
   "outputs": [],
   "source": [
    "#Name: Sunny Sampat Lonkar\n",
    "#Roll No. : 34\n",
    "#Batch : T2\n"
   ]
  },
  {
   "cell_type": "code",
   "execution_count": 3,
   "id": "809e6556-6780-42df-9689-fabde6b0158e",
   "metadata": {},
   "outputs": [
    {
     "name": "stderr",
     "output_type": "stream",
     "text": [
      "[nltk_data] Downloading package punkt to\n",
      "[nltk_data]     C:\\Users\\LENOVO\\AppData\\Roaming\\nltk_data...\n",
      "[nltk_data]   Unzipping tokenizers\\punkt.zip.\n",
      "[nltk_data] Downloading package stopwords to\n",
      "[nltk_data]     C:\\Users\\LENOVO\\AppData\\Roaming\\nltk_data...\n",
      "[nltk_data]   Unzipping corpora\\stopwords.zip.\n",
      "[nltk_data] Downloading package wordnet to\n",
      "[nltk_data]     C:\\Users\\LENOVO\\AppData\\Roaming\\nltk_data...\n",
      "[nltk_data] Downloading package averaged_perceptron_tagger to\n",
      "[nltk_data]     C:\\Users\\LENOVO\\AppData\\Roaming\\nltk_data...\n",
      "[nltk_data]   Unzipping taggers\\averaged_perceptron_tagger.zip.\n"
     ]
    },
    {
     "data": {
      "text/plain": [
       "True"
      ]
     },
     "execution_count": 3,
     "metadata": {},
     "output_type": "execute_result"
    }
   ],
   "source": [
    "import nltk\n",
    "nltk.download('punkt')\n",
    "nltk.download('stopwords')\n",
    "nltk.download('wordnet')\n",
    "nltk.download('averaged_perceptron_tagger')"
   ]
  },
  {
   "cell_type": "code",
   "execution_count": 4,
   "id": "33d0e604-aa77-4fee-8d54-1540da12b3ea",
   "metadata": {},
   "outputs": [],
   "source": [
    "text=\"Data analytics is an important field that involves the process of collecting, processing, and interpreting data to uncover insights and help in making decisions\""
   ]
  },
  {
   "cell_type": "code",
   "execution_count": 5,
   "id": "ec70741f-d3b4-4011-8e65-b40827fcb61c",
   "metadata": {},
   "outputs": [
    {
     "data": {
      "text/plain": [
       "'Data analytics is an important field that involves the process of collecting, processing, and interpreting data to uncover insights and help in making decisions'"
      ]
     },
     "execution_count": 5,
     "metadata": {},
     "output_type": "execute_result"
    }
   ],
   "source": [
    "text"
   ]
  },
  {
   "cell_type": "code",
   "execution_count": 7,
   "id": "f1cf4614-1708-4229-bc63-593cf98eda62",
   "metadata": {},
   "outputs": [],
   "source": [
    "#Sentence Tokenization"
   ]
  },
  {
   "cell_type": "code",
   "execution_count": 8,
   "id": "16680432-214e-412d-b5a9-fa74507f707b",
   "metadata": {},
   "outputs": [
    {
     "name": "stdout",
     "output_type": "stream",
     "text": [
      "['Data analytics is an important field that involves the process of collecting, processing, and interpreting data to uncover insights and help in making decisions']\n"
     ]
    }
   ],
   "source": [
    "from nltk.tokenize import sent_tokenize\n",
    "tokenized_text= sent_tokenize(text)\n",
    "print(tokenized_text)"
   ]
  },
  {
   "cell_type": "code",
   "execution_count": 9,
   "id": "edb2b127-dc76-49b0-82f5-0a6d65eda09a",
   "metadata": {},
   "outputs": [],
   "source": [
    "#Word Tokenization"
   ]
  },
  {
   "cell_type": "code",
   "execution_count": 10,
   "id": "c0baab11-9204-46de-9f0e-823231cf37a5",
   "metadata": {},
   "outputs": [
    {
     "name": "stdout",
     "output_type": "stream",
     "text": [
      "['Data', 'analytics', 'is', 'an', 'important', 'field', 'that', 'involves', 'the', 'process', 'of', 'collecting', ',', 'processing', ',', 'and', 'interpreting', 'data', 'to', 'uncover', 'insights', 'and', 'help', 'in', 'making', 'decisions']\n"
     ]
    }
   ],
   "source": [
    "from nltk.tokenize import word_tokenize\n",
    "tokenized_word=word_tokenize(text)\n",
    "print(tokenized_word)"
   ]
  },
  {
   "cell_type": "code",
   "execution_count": 11,
   "id": "e8fde789-dde2-4b75-8a93-538b3c0572ca",
   "metadata": {},
   "outputs": [],
   "source": [
    "# print stop words of English"
   ]
  },
  {
   "cell_type": "code",
   "execution_count": 14,
   "id": "e6c6f5a0-4e57-42f9-8b2a-6f52bb380c8d",
   "metadata": {},
   "outputs": [
    {
     "name": "stdout",
     "output_type": "stream",
     "text": [
      "{'if', 'against', 'doesn', 'we', 'hasn', 'doing', \"don't\", 'yourself', 'now', 'y', 'myself', \"you'd\", 'itself', 'out', 'but', \"that'll\", 'ourselves', 'into', 've', \"isn't\", \"mightn't\", 'mustn', 'through', 'up', 'didn', \"hasn't\", \"needn't\", 'i', 'it', 'then', 'all', 'your', 'why', 'will', \"mustn't\", 'was', 'from', 'o', 'most', 'when', \"couldn't\", 'its', 'aren', \"she's\", 'were', 'over', 'more', 'an', 'shouldn', 'you', 'hers', 's', 'nor', 'or', 'there', 'do', 'both', \"wouldn't\", \"wasn't\", 'than', \"it's\", 'above', 'any', 'a', 'd', 'because', 'them', 'after', 'during', 'weren', 'is', 'being', 'themselves', 'have', 'had', 'll', \"hadn't\", 'those', 'off', 'been', 'what', 'himself', 'where', 'on', 'yours', 'am', 'has', 'other', 'she', 'until', 'does', 'm', 'as', \"should've\", 'did', 'very', 'few', 'such', 'yourselves', 'he', \"won't\", 'by', 'in', \"shouldn't\", 'me', \"didn't\", 'at', 'having', 'don', 'too', \"you'll\", 'wouldn', 'for', 'how', 'same', \"shan't\", 'here', 'him', 'haven', 'before', 'be', 'so', \"you've\", 'our', 'ain', 'are', 'further', 'won', 'should', 'ma', 'to', 'only', 'some', \"weren't\", 'ours', 'my', 'of', 'which', 't', \"doesn't\", 'and', 'wasn', 'they', 'his', 'below', 'these', 'each', 'can', 'once', 'hadn', 'couldn', \"aren't\", 'theirs', 'who', 'no', 'herself', 'under', \"you're\", 'just', 'her', 'whom', 'own', 'that', 'not', \"haven't\", 'about', 'while', 'shan', 'this', 're', 'isn', 'mightn', 'the', 'again', 'needn', 'their', 'down', 'between', 'with'}\n",
      "Tokenized Sentence: ['howtoremovestopwordswithnltklibraryinpython']\n",
      "Filterd Sentence: ['howtoremovestopwordswithnltklibraryinpython']\n"
     ]
    }
   ],
   "source": [
    "from nltk.corpus import stopwords\n",
    "import re\n",
    "stop_words=set(stopwords.words(\"english\"))\n",
    "print(stop_words)\n",
    "text= \"How to remove stop words with NLTK library in Python?\"\n",
    "text= re.sub('[^a-zA-Z]', '',text)\n",
    "tokens = word_tokenize(text.lower())\n",
    "filtered_text=[]\n",
    "for w in tokens:\n",
    "    if w not in stop_words:\n",
    "        filtered_text.append(w)\n",
    "    print(\"Tokenized Sentence:\",tokens)\n",
    "print(\"Filterd Sentence:\",filtered_text)"
   ]
  },
  {
   "cell_type": "code",
   "execution_count": 15,
   "id": "4eef0071-5581-4c33-817e-6f97c1b45eca",
   "metadata": {},
   "outputs": [
    {
     "name": "stdout",
     "output_type": "stream",
     "text": [
      "wait\n"
     ]
    }
   ],
   "source": [
    "from nltk.stem import PorterStemmer\n",
    "e_words= [\"wait\", \"waiting\", \"waited\", \"waits\"]\n",
    "ps =PorterStemmer()\n",
    "for w in e_words:\n",
    "    rootWord=ps.stem(w)\n",
    "print(rootWord)"
   ]
  },
  {
   "cell_type": "code",
   "execution_count": 16,
   "id": "cc10a076-ccaa-41f2-bc00-6348e70aef16",
   "metadata": {},
   "outputs": [
    {
     "name": "stdout",
     "output_type": "stream",
     "text": [
      "Lemma for studies is study\n",
      "Lemma for studying is studying\n",
      "Lemma for cries is cry\n",
      "Lemma for cry is cry\n"
     ]
    }
   ],
   "source": [
    "from nltk.stem import WordNetLemmatizer\n",
    "wordnet_lemmatizer=WordNetLemmatizer()\n",
    "text = \"studies studying cries cry\"\n",
    "tokenization = nltk.word_tokenize(text)\n",
    "for w in tokenization:\n",
    "    print(\"Lemma for {} is {}\".format(w, wordnet_lemmatizer.lemmatize(w)))"
   ]
  },
  {
   "cell_type": "code",
   "execution_count": 17,
   "id": "5f8aea46-79f0-4953-8957-8fd13f6a657f",
   "metadata": {},
   "outputs": [
    {
     "name": "stdout",
     "output_type": "stream",
     "text": [
      "[('The', 'DT')]\n",
      "[('pink', 'NN')]\n",
      "[('sweater', 'NN')]\n",
      "[('fit', 'NN')]\n",
      "[('her', 'PRP$')]\n",
      "[('perfectly', 'RB')]\n"
     ]
    }
   ],
   "source": [
    "import nltk\n",
    "from nltk.tokenize import word_tokenize\n",
    "data=\"The pink sweater fit her perfectly\"\n",
    "words=word_tokenize(data)\n",
    "for word in words:\n",
    "    print(nltk.pos_tag([word]))"
   ]
  },
  {
   "cell_type": "code",
   "execution_count": 18,
   "id": "35e6e5eb-2269-4786-9502-34c5a59448ba",
   "metadata": {},
   "outputs": [],
   "source": [
    "import pandas as pd\n",
    "from sklearn.feature_extraction.text import TfidfVectorizer"
   ]
  },
  {
   "cell_type": "code",
   "execution_count": 19,
   "id": "0915aa41-a546-49cf-a782-a5dec1209566",
   "metadata": {},
   "outputs": [],
   "source": [
    "documentA = 'Jupiter is the largest Planet'\n",
    "documentB = 'Mars is the fourth planet from the Sun'"
   ]
  },
  {
   "cell_type": "code",
   "execution_count": 21,
   "id": "ecfc2bcb-e12b-44e2-bc96-5b4aa04d963a",
   "metadata": {},
   "outputs": [],
   "source": [
    "bagOfWordsA = documentA.split(' ')\n",
    "bagOfWordsB = documentB.split(' ')"
   ]
  },
  {
   "cell_type": "code",
   "execution_count": 22,
   "id": "0a737514-6df3-430e-bb4d-d7c4b1529d10",
   "metadata": {},
   "outputs": [],
   "source": [
    "uniqueWords = set(bagOfWordsA).union(set(bagOfWordsB))"
   ]
  },
  {
   "cell_type": "code",
   "execution_count": 23,
   "id": "8250a002-e973-47be-8e9f-13b054361c65",
   "metadata": {},
   "outputs": [],
   "source": [
    "numOfWordsA = dict.fromkeys(uniqueWords, 0)\n",
    "for word in bagOfWordsA:\n",
    "    numOfWordsA[word] += 1\n",
    "    numOfWordsB = dict.fromkeys(uniqueWords, 0)\n",
    "\n",
    "for word in bagOfWordsB:\n",
    "    numOfWordsB[word] += 1"
   ]
  },
  {
   "cell_type": "code",
   "execution_count": 26,
   "id": "55d2b577-2e16-40e3-8194-41ff05437bdb",
   "metadata": {},
   "outputs": [],
   "source": [
    "def computeTF(wordDict, bagOfWords):\n",
    "    tfDict = {}\n",
    "    bagOfWordsCount = len(bagOfWords)\n",
    "    for word, count in wordDict.items():\n",
    "        tfDict[word] = count / float(bagOfWordsCount)\n",
    "    return tfDict\n",
    "\n",
    "tfA = computeTF(numOfWordsA, bagOfWordsA)\n",
    "tfB = computeTF(numOfWordsB, bagOfWordsB)"
   ]
  },
  {
   "cell_type": "code",
   "execution_count": 27,
   "id": "8b42b6b3-0178-4554-9316-3e219ac18aa8",
   "metadata": {},
   "outputs": [
    {
     "data": {
      "text/plain": [
       "{'Sun': 0.6931471805599453,\n",
       " 'is': 0.0,\n",
       " 'the': 0.0,\n",
       " 'Planet': 0.6931471805599453,\n",
       " 'largest': 0.6931471805599453,\n",
       " 'planet': 0.6931471805599453,\n",
       " 'from': 0.6931471805599453,\n",
       " 'Mars': 0.6931471805599453,\n",
       " 'Jupiter': 0.6931471805599453,\n",
       " 'fourth': 0.6931471805599453}"
      ]
     },
     "execution_count": 27,
     "metadata": {},
     "output_type": "execute_result"
    }
   ],
   "source": [
    "def computeIDF(documents):\n",
    "    import math\n",
    "    N = len(documents)\n",
    "    idfDict = dict.fromkeys(documents[0].keys(), 0)\n",
    "    for document in documents:\n",
    "        for word, val in document.items():\n",
    "            if val >0:\n",
    "                idfDict[word] += 1\n",
    "    \n",
    "    for word, val in idfDict.items():\n",
    "        idfDict[word] = math.log(N / float(val))\n",
    "    return idfDict\n",
    "\n",
    "idfs = computeIDF([numOfWordsA, numOfWordsB])\n",
    "idfs"
   ]
  },
  {
   "cell_type": "code",
   "execution_count": 28,
   "id": "3e7fdd50-5558-45ec-b3f3-d50979bcee8c",
   "metadata": {},
   "outputs": [
    {
     "data": {
      "text/html": [
       "<div>\n",
       "<style scoped>\n",
       "    .dataframe tbody tr th:only-of-type {\n",
       "        vertical-align: middle;\n",
       "    }\n",
       "\n",
       "    .dataframe tbody tr th {\n",
       "        vertical-align: top;\n",
       "    }\n",
       "\n",
       "    .dataframe thead th {\n",
       "        text-align: right;\n",
       "    }\n",
       "</style>\n",
       "<table border=\"1\" class=\"dataframe\">\n",
       "  <thead>\n",
       "    <tr style=\"text-align: right;\">\n",
       "      <th></th>\n",
       "      <th>Sun</th>\n",
       "      <th>is</th>\n",
       "      <th>the</th>\n",
       "      <th>Planet</th>\n",
       "      <th>largest</th>\n",
       "      <th>planet</th>\n",
       "      <th>from</th>\n",
       "      <th>Mars</th>\n",
       "      <th>Jupiter</th>\n",
       "      <th>fourth</th>\n",
       "    </tr>\n",
       "  </thead>\n",
       "  <tbody>\n",
       "    <tr>\n",
       "      <th>0</th>\n",
       "      <td>0.000000</td>\n",
       "      <td>0.0</td>\n",
       "      <td>0.0</td>\n",
       "      <td>0.138629</td>\n",
       "      <td>0.138629</td>\n",
       "      <td>0.000000</td>\n",
       "      <td>0.000000</td>\n",
       "      <td>0.000000</td>\n",
       "      <td>0.138629</td>\n",
       "      <td>0.000000</td>\n",
       "    </tr>\n",
       "    <tr>\n",
       "      <th>1</th>\n",
       "      <td>0.086643</td>\n",
       "      <td>0.0</td>\n",
       "      <td>0.0</td>\n",
       "      <td>0.000000</td>\n",
       "      <td>0.000000</td>\n",
       "      <td>0.086643</td>\n",
       "      <td>0.086643</td>\n",
       "      <td>0.086643</td>\n",
       "      <td>0.000000</td>\n",
       "      <td>0.086643</td>\n",
       "    </tr>\n",
       "  </tbody>\n",
       "</table>\n",
       "</div>"
      ],
      "text/plain": [
       "        Sun   is  the    Planet   largest    planet      from      Mars  \\\n",
       "0  0.000000  0.0  0.0  0.138629  0.138629  0.000000  0.000000  0.000000   \n",
       "1  0.086643  0.0  0.0  0.000000  0.000000  0.086643  0.086643  0.086643   \n",
       "\n",
       "    Jupiter    fourth  \n",
       "0  0.138629  0.000000  \n",
       "1  0.000000  0.086643  "
      ]
     },
     "execution_count": 28,
     "metadata": {},
     "output_type": "execute_result"
    }
   ],
   "source": [
    "def computeTFIDF(tfBagOfWords, idfs):\n",
    "    tfidf = {}\n",
    "    for word, val in tfBagOfWords.items():\n",
    "        tfidf[word] = val * idfs[word]\n",
    "    return tfidf\n",
    "\n",
    "tfidfA = computeTFIDF(tfA, idfs)\n",
    "tfidfB = computeTFIDF(tfB, idfs)\n",
    "\n",
    "df = pd.DataFrame([tfidfA, tfidfB])\n",
    "df"
   ]
  },
  {
   "cell_type": "code",
   "execution_count": null,
   "id": "5cfb95b4-2c50-4faf-9ebb-69717de26598",
   "metadata": {},
   "outputs": [],
   "source": []
  }
 ],
 "metadata": {
  "kernelspec": {
   "display_name": "Python 3 (ipykernel)",
   "language": "python",
   "name": "python3"
  },
  "language_info": {
   "codemirror_mode": {
    "name": "ipython",
    "version": 3
   },
   "file_extension": ".py",
   "mimetype": "text/x-python",
   "name": "python",
   "nbconvert_exporter": "python",
   "pygments_lexer": "ipython3",
   "version": "3.9.7"
  }
 },
 "nbformat": 4,
 "nbformat_minor": 5
}
